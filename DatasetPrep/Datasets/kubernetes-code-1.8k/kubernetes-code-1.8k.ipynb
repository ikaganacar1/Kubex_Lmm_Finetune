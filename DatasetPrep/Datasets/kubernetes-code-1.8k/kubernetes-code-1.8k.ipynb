{
 "cells": [
  {
   "cell_type": "code",
   "execution_count": 4,
   "id": "89ba416b",
   "metadata": {},
   "outputs": [
    {
     "name": "stdout",
     "output_type": "stream",
     "text": [
      "List all deployments in all namespaces.\n",
      "```bash\n",
      "kubectl get deployments --all-namespaces\n",
      "```\n"
     ]
    }
   ],
   "source": [
    "import json\n",
    "\n",
    "with open('kubernetes-code-1.8k.json', 'r') as file:\n",
    "    data = json.load(file)\n",
    "\n",
    "print(data[\"instruction\"][\"0\"])\n",
    "\n",
    "print(data[\"output\"][\"0\"])\n",
    "\n",
    "\n"
   ]
  },
  {
   "cell_type": "code",
   "execution_count": 9,
   "id": "f1f120a3",
   "metadata": {},
   "outputs": [],
   "source": [
    "def convert_to_chatml(input_file, output_file):\n",
    "    \"\"\"\n",
    "    Convert DevOps dataset to ChatML format\n",
    "    \n",
    "    Args:\n",
    "        input_file (str): Path to input JSON file\n",
    "        output_file (str): Path to output JSON file\n",
    "    \"\"\"\n",
    "    \n",
    "    # Load the original dataset\n",
    "    with open(input_file, 'r') as file:\n",
    "        data = json.load(file)\n",
    "    \n",
    "    # Get the number of entries (assuming all keys have the same number of entries)\n",
    "    num_entries = len(data.get(\"instruction\", {}))\n",
    "    \n",
    "    chatml_conversations = []\n",
    "    \n",
    "    # Convert each entry to ChatML format\n",
    "    for i in range(num_entries):  # Keys appear to be 1-indexed strings\n",
    "        key = str(i)\n",
    "        \n",
    "        # Extract data for this entry\n",
    "        instruction = data.get(\"instruction\", {}).get(key, \"\")\n",
    "        response = data.get(\"output\", {}).get(key, \"\")\n",
    "        \n",
    "       \n",
    "        \n",
    "        # Create ChatML conversation\n",
    "        conversation = {\n",
    "            \"messages\": [\n",
    "                {\n",
    "                    \"role\": \"user\",\n",
    "                    \"content\": f\"{instruction}\".strip()\n",
    "                },\n",
    "                {\n",
    "                    \"role\": \"assistant\", \n",
    "                    \"content\": response.strip()\n",
    "                }\n",
    "            ]\n",
    "        }\n",
    "        \n",
    "        chatml_conversations.append(conversation)\n",
    "    \n",
    "    # Save to output file in JSONL format\n",
    "    with open(output_file, 'w') as file:\n",
    "        for conversation in chatml_conversations:\n",
    "            file.write(json.dumps(conversation) + '\\n')\n",
    "    \n",
    "    print(f\"Converted {len(chatml_conversations)} conversations to ChatML format\")\n",
    "    print(f\"Output saved to: {output_file}\")"
   ]
  },
  {
   "cell_type": "code",
   "execution_count": 10,
   "id": "91593688",
   "metadata": {},
   "outputs": [
    {
     "name": "stdout",
     "output_type": "stream",
     "text": [
      "Converted 1799 conversations to ChatML format\n",
      "Output saved to: kubernetes-code-1.8k.jsonl\n"
     ]
    }
   ],
   "source": [
    "convert_to_chatml('kubernetes-code-1.8k.json', 'kubernetes-code-1.8k.jsonl')"
   ]
  }
 ],
 "metadata": {
  "kernelspec": {
   "display_name": "base",
   "language": "python",
   "name": "python3"
  },
  "language_info": {
   "codemirror_mode": {
    "name": "ipython",
    "version": 3
   },
   "file_extension": ".py",
   "mimetype": "text/x-python",
   "name": "python",
   "nbconvert_exporter": "python",
   "pygments_lexer": "ipython3",
   "version": "3.12.9"
  }
 },
 "nbformat": 4,
 "nbformat_minor": 5
}
